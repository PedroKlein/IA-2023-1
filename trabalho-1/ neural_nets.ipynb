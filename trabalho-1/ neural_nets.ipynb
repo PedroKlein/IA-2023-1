{
  "cells": [
    {
      "attachments": {},
      "cell_type": "markdown",
      "metadata": {
        "id": "-Njbe8eLcla7"
      },
      "source": [
        "Imports e definição do dataset.\n"
      ]
    },
    {
      "cell_type": "code",
      "execution_count": 2,
      "metadata": {
        "colab": {
          "base_uri": "https://localhost:8080/"
        },
        "id": "9rvXQGAA0ssC",
        "outputId": "ab2ab72b-aa2e-48dc-9f9b-109ac6db359c"
      },
      "outputs": [
        {
          "name": "stdout",
          "output_type": "stream",
          "text": [
            "2.12.0\n"
          ]
        },
        {
          "name": "stderr",
          "output_type": "stream",
          "text": [
            "c:\\Users\\Felipe\\AppData\\Local\\Programs\\Python\\Python311\\Lib\\site-packages\\tqdm\\auto.py:21: TqdmWarning: IProgress not found. Please update jupyter and ipywidgets. See https://ipywidgets.readthedocs.io/en/stable/user_install.html\n",
            "  from .autonotebook import tqdm as notebook_tqdm\n"
          ]
        }
      ],
      "source": [
        "import tensorflow as tf\n",
        "import matplotlib.pyplot as plt\n",
        "from tqdm.keras import TqdmCallback\n",
        "\n",
        "mnist = tf.keras.datasets.mnist\n",
        "fashion_mnist = tf.keras.datasets.fashion_mnist\n",
        "cifar10 = tf.keras.datasets.cifar10\n",
        "cifar100 = tf.keras.datasets.cifar100\n",
        "\n",
        "print(tf.__version__)\n"
      ]
    },
    {
      "attachments": {},
      "cell_type": "markdown",
      "metadata": {
        "id": "3m6C8gisAJqb"
      },
      "source": [
        "O exemplo abaixo mostra as 10 primeiras imagens de treino e teste do MNIST:"
      ]
    },
    {
      "cell_type": "code",
      "execution_count": 3,
      "metadata": {
        "id": "JSXB_3_iAMMc"
      },
      "outputs": [
        {
          "data": {
            "image/png": "[encoded data removed]",
            "text/plain": [
              "<Figure size 2000x400 with 20 Axes>"
            ]
          },
          "metadata": {},
          "output_type": "display_data"
        }
      ],
      "source": [
        "# mostrar as 10 primeiras imagens de treino e teste\n",
        "(x_train, y_train),(x_test, y_test) = mnist.load_data()\n",
        "n = 10\n",
        "plt.figure(figsize=(20, 4))\n",
        "for i in range(n):\n",
        "  # treino\n",
        "  ax = plt.subplot(2, n, i + 1)\n",
        "  plt.imshow(x_train[i])\n",
        "  plt.title(f\"treino, y={y_train[i]}\")\n",
        "  plt.gray()\n",
        "  ax.get_xaxis().set_visible(False)\n",
        "  ax.get_yaxis().set_visible(False)\n",
        "\n",
        "  # teste\n",
        "  ax = plt.subplot(2, n, i + 1 + n)\n",
        "  plt.imshow(x_test[i])\n",
        "  plt.title(f\"teste, y={y_test[i]}\")\n",
        "  plt.gray()\n",
        "  ax.get_xaxis().set_visible(False)\n",
        "  ax.get_yaxis().set_visible(False)\n",
        "plt.show()"
      ]
    },
    {
      "attachments": {},
      "cell_type": "markdown",
      "metadata": {
        "id": "y_sxNMHZcx2U"
      },
      "source": [
        "A celula abaixo tem a definição de uma rede neural para ser usada no dataset MNIST. Você pode modifica-la como quiser (e.g. adicionar convoluções e/ou mais camadas ocultas) para melhorar o desempenho. Somente não pode modificar o número de neuronios de saida e a métrica de acurácia.\n",
        "\n"
      ]
    },
    {
      "cell_type": "code",
      "execution_count": 4,
      "metadata": {
        "id": "nUBXUukOcKLI"
      },
      "outputs": [],
      "source": [
        "def get_mnist_network():\n",
        "  network = tf.keras.models.Sequential([\n",
        "      tf.keras.layers.Flatten(input_shape=(28,28)),       # 1 camada de entrada (achatando a entrada pra imagem 28x28 virar um vetor)\n",
        "      tf.keras.layers.Dense(10, activation=tf.nn.softmax) # 1 camada de saida com 10 neuronios (1 por classe)\n",
        "  ])\n",
        "\n",
        "  network.compile(optimizer='sgd',                        # otimizador SGD\n",
        "                loss='sparse_categorical_crossentropy',   # entropia cruzada adaptada para multiplas classes\n",
        "                metrics=['accuracy'])                     # métrica final de desempenho (nao modifique!)\n",
        "\n",
        "  return network\n"
      ]
    },
    {
      "attachments": {},
      "cell_type": "markdown",
      "metadata": {
        "id": "NaQ2p_TeN1RE"
      },
      "source": [
        "A celula abaixo tem um exemplo de execucao da rede neural do MNIST naquele dataset. Modifique para executar por 10 épocas e adicione código para medir o tempo gasto.\n"
      ]
    },
    {
      "cell_type": "code",
      "execution_count": 5,
      "metadata": {
        "id": "I-Z3JZaiNu1h"
      },
      "outputs": [
        {
          "name": "stderr",
          "output_type": "stream",
          "text": [
            "100%|██████████| 1.88k/1.88k [00:01<00:00, 1.11kbatch/s, loss=316, accuracy=0.841]\n",
            "100%|██████████| 1.88k/1.88k [00:01<00:00, 1.23kbatch/s, loss=259, accuracy=0.868]\n",
            "100%|██████████| 1.88k/1.88k [00:01<00:00, 1.27kbatch/s, loss=251, accuracy=0.874]\n",
            "100%|██████████| 1.88k/1.88k [00:01<00:00, 1.21kbatch/s, loss=249, accuracy=0.875]\n",
            "100%|██████████| 1.88k/1.88k [00:01<00:00, 1.16kbatch/s, loss=242, accuracy=0.878]\n",
            "100%|██████████| 5/5 [00:07<00:00,  1.60s/epoch, loss=242, accuracy=0.878]\n"
          ]
        },
        {
          "name": "stdout",
          "output_type": "stream",
          "text": [
            "313/313 [==============================] - 0s 816us/step - loss: 192.4369 - accuracy: 0.9071\n"
          ]
        }
      ],
      "source": [
        "network = get_mnist_network()                             # obtem a rede\n",
        "(x_train, y_train),(x_test, y_test) = mnist.load_data()   # carrega o dataset\n",
        "network.fit(x_train, y_train, epochs=5, verbose=0, callbacks=[TqdmCallback(verbose=2)])                   # treina a rede\n",
        "loss, accuracy = network.evaluate(x_test, y_test)         # avalia a rede"
      ]
    },
    {
      "attachments": {},
      "cell_type": "markdown",
      "metadata": {
        "id": "eXQklvZQWZCw"
      },
      "source": [
        "## Tarefa\n",
        "\n",
        "Escreva código para executar redes neurais nos seguintes datasets:\n",
        "- MNIST (pode aproveitar o codigo existente)\n",
        "- Fashion MNIST\n",
        "- CIFAR-10\n",
        "- CIFAR-100\n",
        "\n",
        "Cada execução deve ser por 10 épocas.\n",
        "\n",
        "Você deve preencher as funções a seguir para retornarem a rede neural com a melhor configuração que você conseguiu para cada dataset (a do MNIST deve ser feita na `get_mnist_network()` acima).\n",
        "\n",
        "IMPORTANTE: as funções não devem TREINAR nem AVALIAR  as redes neurais, apenas instancia-las e retorna-las.\n",
        "\n",
        "Ao final, preencha o dict `results` com o desempenho encontrado em cada execução."
      ]
    },
    {
      "cell_type": "code",
      "execution_count": 6,
      "metadata": {
        "id": "lX2-RCMm5Yro"
      },
      "outputs": [],
      "source": [
        "#TODO: implement specific networks for each dataset (with convolutional layers)\n",
        "import time\n",
        "def get_mnist_network():\n",
        "  \n",
        "  network = tf.keras.models.Sequential([\n",
        "      tf.keras.layers.Conv2D(16, (3,3), activation='relu', input_shape=(28, 28, 1)),    # 1 camada de convolução: 16 filtros 3x3\n",
        "      tf.keras.layers.MaxPool2D((2,2)),                                                 # max pooling 2x2\n",
        "      tf.keras.layers.Conv2D(8, (3,3), activation='relu'),                               # 1 camada de convolução:8 filtros 3x3\n",
        "      tf.keras.layers.MaxPool2D((2,2)),                                                  # max pooling 2x2\n",
        "      tf.keras.layers.Flatten(),                                                        # achatar p/ entrar em MLP\n",
        "      tf.keras.layers.Dense(10, activation='softmax')                                   # 1 camada de saida com 10 neuronios\n",
        "  ])\n",
        "\n",
        "  network.compile(optimizer='rmsprop',                        # otimizador SGD\n",
        "                loss='sparse_categorical_crossentropy',   # entropia cruzada adaptada para multiplas classes\n",
        "                metrics=['accuracy'])                     # métrica final de desempenho (nao modifique!)\n",
        "\n",
        "  return network\n",
        "\n",
        "def get_fashion_mnist_network():\n",
        "  network = tf.keras.models.Sequential([\n",
        "    tf.keras.layers.Conv2D(16, (3,3), activation='relu', input_shape=(28, 28, 1)),    # 1 camada de convolução: 16 filtros 3x3\n",
        "    tf.keras.layers.MaxPool2D((2,2)),                                                 # max pooling 2x2\n",
        "    tf.keras.layers.Conv2D(8, (3,3), activation='relu'),                              # 1 camada de convolução: 8 filtros 3x3\n",
        "    tf.keras.layers.MaxPool2D((2,2)),                                                 # max pooling 2x2\n",
        "    tf.keras.layers.Flatten(),                                                        # achatar p/ entrar em MLP\n",
        "    tf.keras.layers.Dense(10, activation='softmax')                                   # 1 camada de saida com 10 neuronios\n",
        "  ])\n",
        "\n",
        "  network.compile(optimizer='rmsprop',                        # otimizador SGD\n",
        "                loss='sparse_categorical_crossentropy',   # entropia cruzada adaptada para multiplas classes\n",
        "                metrics=['accuracy'])                     # métrica final de desempenho (nao modifique!)\n",
        "\n",
        "  return network\n",
        "\n",
        "def get_cifar10_network():\n",
        "  network = tf.keras.models.Sequential([\n",
        "      tf.keras.layers.Conv2D(16, (3,3), activation='relu', input_shape=(32, 32, 3)),    # 1 camada de convolução: 16 filtros 3x3\n",
        "      tf.keras.layers.MaxPool2D((2,2)),                                                 # max pooling 2x2\n",
        "      tf.keras.layers.Conv2D(32, (3,3), activation='relu'),                             # 1 camada de convolução: 32 filtros 3x3\n",
        "      tf.keras.layers.MaxPool2D((2,2)),                                                 # max pooling 2x2\n",
        "      tf.keras.layers.Flatten(),                                                        # achatar p/ entrar em MLP\n",
        "      tf.keras.layers.Dense(128, activation='sigmoid'),                                 # 1 camada escondida com 128 neuronios                                \n",
        "      tf.keras.layers.Dense(10, activation='softmax')                                   # 1 camada de saida com 10 neuronios\n",
        "  ])\n",
        "\n",
        "  network.compile(optimizer='rmsprop',                        # otimizador SGD\n",
        "                loss='sparse_categorical_crossentropy',   # entropia cruzada adaptada para multiplas classes\n",
        "                metrics=['accuracy'])                     # métrica final de desempenho (nao modifique!)\n",
        "\n",
        "  return network\n",
        "\n",
        "def get_cifar100_network():\n",
        "  network = tf.keras.models.Sequential([\n",
        "      tf.keras.layers.Conv2D(16, (3,3), activation='relu', input_shape=(32, 32, 3)),    # 1 camada de convolução: 16 filtros 3x3\n",
        "      tf.keras.layers.MaxPool2D((2,2)),                                                 # max pooling 2x2\n",
        "      tf.keras.layers.Conv2D(32, (3,3), activation='relu'),                             # 1 camada de convolução: 32 filtros 3x3\n",
        "      tf.keras.layers.MaxPool2D((2,2)),                                                 # max pooling 2x2\n",
        "      tf.keras.layers.Flatten(),                                                        # achatar p/ entrar em MLP\n",
        "      tf.keras.layers.Dense(128, activation='sigmoid'),                                 # 1 camada escondida com 128 neuronios                                \n",
        "      tf.keras.layers.Dense(100, activation='softmax')                                  # 1 camada de saida com 10 neuronios\n",
        "  ])\n",
        "\n",
        "  network.compile(optimizer='rmsprop',                        # otimizador SGD\n",
        "                loss='sparse_categorical_crossentropy',   # entropia cruzada adaptada para multiplas classes\n",
        "                metrics=['accuracy'])                     # métrica final de desempenho (nao modifique!)\n",
        "\n",
        "  return network\n",
        "\n",
        "def evaluate_network(network, dataset, epochs=10, normalize=False, max_value=255.0):\n",
        "  (train_images, train_labels), (test_images, test_labels) = dataset.load_data() # carrega o dataset \n",
        "\n",
        "  # se normalize=True, normaliza as imagens dividindo pelo valor maximo (default 255 pra pixel com cor)\n",
        "  if(normalize):\n",
        "    train_images, test_images = train_images / max_value, test_images / max_value\n",
        "\n",
        "  start_time = time.time()\n",
        "  network.fit(train_images, train_labels, epochs=epochs, verbose=0, callbacks=[TqdmCallback(verbose=2)])  # treina a rede\n",
        "  trainning_time = time.time() - start_time\n",
        "  loss, accuracy = network.evaluate(test_images, test_labels)         # avalia a rede\n",
        "  return loss, accuracy, trainning_time\n",
        "\n"
      ]
    },
    {
      "attachments": {},
      "cell_type": "markdown",
      "metadata": {},
      "source": [
        "## Teste das redes"
      ]
    },
    {
      "attachments": {},
      "cell_type": "markdown",
      "metadata": {},
      "source": [
        "### Mnist"
      ]
    },
    {
      "cell_type": "code",
      "execution_count": 7,
      "metadata": {},
      "outputs": [
        {
          "name": "stderr",
          "output_type": "stream",
          "text": [
            "100%|██████████| 1.88k/1.88k [00:10<00:00, 176batch/s, loss=0.891, accuracy=0.884]\n",
            "100%|██████████| 1.88k/1.88k [00:09<00:00, 192batch/s, loss=0.113, accuracy=0.968]\n",
            "100%|██████████| 1.88k/1.88k [00:09<00:00, 192batch/s, loss=0.0863, accuracy=0.975]\n",
            "100%|██████████| 1.88k/1.88k [00:10<00:00, 187batch/s, loss=0.0791, accuracy=0.977]\n",
            "100%|██████████| 1.88k/1.88k [00:09<00:00, 192batch/s, loss=0.0718, accuracy=0.979]\n",
            "100%|██████████| 1.88k/1.88k [00:09<00:00, 191batch/s, loss=0.0663, accuracy=0.981]\n",
            "100%|██████████| 1.88k/1.88k [00:09<00:00, 193batch/s, loss=0.0648, accuracy=0.981]\n",
            "100%|██████████| 1.88k/1.88k [00:09<00:00, 189batch/s, loss=0.0626, accuracy=0.982]\n",
            "100%|██████████| 1.88k/1.88k [00:09<00:00, 191batch/s, loss=0.0613, accuracy=0.982]\n",
            "100%|██████████| 1.88k/1.88k [00:09<00:00, 193batch/s, loss=0.0594, accuracy=0.983]\n",
            "100%|██████████| 10/10 [01:38<00:00,  9.89s/epoch, loss=0.0594, accuracy=0.983]\n"
          ]
        },
        {
          "name": "stdout",
          "output_type": "stream",
          "text": [
            "313/313 [==============================] - 1s 2ms/step - loss: 0.0723 - accuracy: 0.9797\n"
          ]
        }
      ],
      "source": [
        "minst_network = get_mnist_network()      # obtem a rede\n",
        "mnist_loss, mnist_acc, mnist_time = evaluate_network(minst_network, mnist)   # avalia a rede"
      ]
    },
    {
      "attachments": {},
      "cell_type": "markdown",
      "metadata": {},
      "source": [
        "### Fashion Mnist"
      ]
    },
    {
      "cell_type": "code",
      "execution_count": 8,
      "metadata": {},
      "outputs": [
        {
          "name": "stderr",
          "output_type": "stream",
          "text": [
            "100%|██████████| 1.88k/1.88k [00:09<00:00, 191batch/s, loss=1.27, accuracy=0.732]\n",
            "100%|██████████| 1.88k/1.88k [00:09<00:00, 195batch/s, loss=0.536, accuracy=0.813]\n",
            "100%|██████████| 1.88k/1.88k [00:09<00:00, 194batch/s, loss=0.482, accuracy=0.829]\n",
            "100%|██████████| 1.88k/1.88k [00:09<00:00, 194batch/s, loss=0.453, accuracy=0.84]\n",
            "100%|██████████| 1.88k/1.88k [00:09<00:00, 195batch/s, loss=0.427, accuracy=0.849]\n",
            "100%|██████████| 1.88k/1.88k [00:09<00:00, 194batch/s, loss=0.413, accuracy=0.853]\n",
            "100%|██████████| 1.88k/1.88k [00:09<00:00, 193batch/s, loss=0.404, accuracy=0.857]\n",
            "100%|██████████| 1.88k/1.88k [00:09<00:00, 194batch/s, loss=0.399, accuracy=0.858]\n",
            "100%|██████████| 1.88k/1.88k [00:09<00:00, 191batch/s, loss=0.398, accuracy=0.859]\n",
            "100%|██████████| 1.88k/1.88k [00:09<00:00, 190batch/s, loss=0.393, accuracy=0.86]\n",
            "100%|██████████| 10/10 [01:37<00:00,  9.71s/epoch, loss=0.393, accuracy=0.86]\n"
          ]
        },
        {
          "name": "stdout",
          "output_type": "stream",
          "text": [
            "313/313 [==============================] - 1s 2ms/step - loss: 0.4175 - accuracy: 0.8538\n"
          ]
        }
      ],
      "source": [
        "fashion_minst_network = get_fashion_mnist_network()      # obtem a rede\n",
        "fmnist_loss, fmnist_acc, fmnist_time = evaluate_network(fashion_minst_network, fashion_mnist)   # avalia a rede"
      ]
    },
    {
      "attachments": {},
      "cell_type": "markdown",
      "metadata": {},
      "source": [
        "### CIFAR 10"
      ]
    },
    {
      "cell_type": "code",
      "execution_count": 9,
      "metadata": {},
      "outputs": [
        {
          "name": "stderr",
          "output_type": "stream",
          "text": [
            "100%|██████████| 1.56k/1.56k [00:13<00:00, 112batch/s, loss=1.62, accuracy=0.417]\n",
            "100%|██████████| 1.56k/1.56k [00:13<00:00, 119batch/s, loss=1.26, accuracy=0.552]\n",
            "100%|██████████| 1.56k/1.56k [00:12<00:00, 122batch/s, loss=1.12, accuracy=0.605]\n",
            "100%|██████████| 1.56k/1.56k [00:12<00:00, 120batch/s, loss=1.02, accuracy=0.641]\n",
            "100%|██████████| 1.56k/1.56k [00:12<00:00, 127batch/s, loss=0.947, accuracy=0.667]\n",
            "100%|██████████| 1.56k/1.56k [00:12<00:00, 122batch/s, loss=0.884, accuracy=0.689]\n",
            "100%|██████████| 1.56k/1.56k [00:13<00:00, 113batch/s, loss=0.829, accuracy=0.712] \n",
            "100%|██████████| 1.56k/1.56k [00:12<00:00, 122batch/s, loss=0.777, accuracy=0.729]\n",
            "100%|██████████| 1.56k/1.56k [00:12<00:00, 127batch/s, loss=0.732, accuracy=0.746]\n",
            "100%|██████████| 1.56k/1.56k [00:12<00:00, 126batch/s, loss=0.69, accuracy=0.761]\n",
            "100%|██████████| 10/10 [02:09<00:00, 12.93s/epoch, loss=0.69, accuracy=0.761]\n"
          ]
        },
        {
          "name": "stdout",
          "output_type": "stream",
          "text": [
            "313/313 [==============================] - 1s 3ms/step - loss: 1.0093 - accuracy: 0.6586\n"
          ]
        }
      ],
      "source": [
        "cifar10_network = get_cifar10_network()\n",
        "c10_loss, c10_acc, c10_time = evaluate_network(cifar10_network, cifar10, normalize=True)"
      ]
    },
    {
      "attachments": {},
      "cell_type": "markdown",
      "metadata": {},
      "source": [
        "### CIFAR 100"
      ]
    },
    {
      "cell_type": "code",
      "execution_count": 10,
      "metadata": {},
      "outputs": [
        {
          "name": "stderr",
          "output_type": "stream",
          "text": [
            "100%|██████████| 1.56k/1.56k [00:13<00:00, 114batch/s, loss=3.95, accuracy=0.104]\n",
            "100%|██████████| 1.56k/1.56k [00:12<00:00, 126batch/s, loss=3.35, accuracy=0.203]\n",
            "100%|██████████| 1.56k/1.56k [00:12<00:00, 127batch/s, loss=3.05, accuracy=0.257]\n",
            "100%|██████████| 1.56k/1.56k [00:12<00:00, 125batch/s, loss=2.85, accuracy=0.296]\n",
            "100%|██████████| 1.56k/1.56k [00:13<00:00, 120batch/s, loss=2.7, accuracy=0.327]\n",
            "100%|██████████| 1.56k/1.56k [00:12<00:00, 121batch/s, loss=2.58, accuracy=0.349]\n",
            "100%|██████████| 1.56k/1.56k [00:12<00:00, 126batch/s, loss=2.48, accuracy=0.373]\n",
            "100%|██████████| 1.56k/1.56k [00:13<00:00, 119batch/s, loss=2.39, accuracy=0.392]\n",
            "100%|██████████| 1.56k/1.56k [00:13<00:00, 118batch/s, loss=2.3, accuracy=0.409] \n",
            "100%|██████████| 1.56k/1.56k [00:13<00:00, 119batch/s, loss=2.23, accuracy=0.425]\n",
            "100%|██████████| 10/10 [02:08<00:00, 12.89s/epoch, loss=2.23, accuracy=0.425]\n"
          ]
        },
        {
          "name": "stdout",
          "output_type": "stream",
          "text": [
            "313/313 [==============================] - 1s 3ms/step - loss: 2.6933 - accuracy: 0.3454\n"
          ]
        }
      ],
      "source": [
        "cifar100_network = get_cifar100_network()\n",
        "c100_loss, c100_acc, c100_time = evaluate_network(cifar100_network, cifar100, normalize=True)"
      ]
    },
    {
      "attachments": {},
      "cell_type": "markdown",
      "metadata": {
        "id": "ozwIAkarPXPo"
      },
      "source": [
        "Preencha o dict abaixo substituindo os None com a acuracia final (acc) e o tempo de treinamento (time) encontrado no seu experimento pra cada dataset"
      ]
    },
    {
      "cell_type": "code",
      "execution_count": 11,
      "metadata": {
        "id": "SIPpN21qPWkW"
      },
      "outputs": [
        {
          "name": "stdout",
          "output_type": "stream",
          "text": [
            "\n",
            "mnist = {'time': 98.96884083747864, 'acc': 0.9797000288963318}\n",
            "fashion_mnist = {'time': 97.1551947593689, 'acc': 0.8537999987602234}\n",
            "cifar10 = {'time': 130.59433317184448, 'acc': 0.6585999727249146}\n",
            "cifar100 = {'time': 129.25107789039612, 'acc': 0.34540000557899475}\n",
            "\n"
          ]
        }
      ],
      "source": [
        "results = {\n",
        "    \"mnist\": {\"time\": mnist_time, \"acc\": mnist_acc},\n",
        "    \"fashion_mnist\": {\"time\": fmnist_time, \"acc\": fmnist_acc},\n",
        "    \"cifar10\": {\"time\": c10_time, \"acc\": c10_acc},\n",
        "    \"cifar100\": {\"time\": c100_time, \"acc\": c100_acc},\n",
        "}\n",
        "\n",
        "print(f'''\n",
        "mnist = {results[\"mnist\"]}\n",
        "fashion_mnist = {results[\"fashion_mnist\"]}\n",
        "cifar10 = {results[\"cifar10\"]}\n",
        "cifar100 = {results[\"cifar100\"]}\n",
        "''')"
      ]
    }
  ],
  "metadata": {
    "colab": {
      "provenance": []
    },
    "kernelspec": {
      "display_name": "Python 3 (ipykernel)",
      "language": "python",
      "name": "python3"
    },
    "language_info": {
      "codemirror_mode": {
        "name": "ipython",
        "version": 3
      },
      "file_extension": ".py",
      "mimetype": "text/x-python",
      "name": "python",
      "nbconvert_exporter": "python",
      "pygments_lexer": "ipython3",
      "version": "3.11.1"
    }
  },
  "nbformat": 4,
  "nbformat_minor": 0
}
