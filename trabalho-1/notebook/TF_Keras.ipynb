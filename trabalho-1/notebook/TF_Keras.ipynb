{
  "cells": [
    {
      "cell_type": "markdown",
      "metadata": {
        "id": "-Njbe8eLcla7"
      },
      "source": [
        "Imports e definição do dataset.\n"
      ]
    },
    {
      "cell_type": "code",
      "execution_count": null,
      "metadata": {
        "colab": {
          "base_uri": "https://localhost:8080/"
        },
        "id": "9rvXQGAA0ssC",
        "outputId": "ab2ab72b-aa2e-48dc-9f9b-109ac6db359c"
      },
      "outputs": [
        {
          "ename": "",
          "evalue": "",
          "output_type": "error",
          "traceback": [
            "\u001b[1;31mRunning cells with '/usr/bin/python' requires the ipykernel package.\n",
            "\u001b[1;31mRun the following command to install 'ipykernel' into the Python environment. \n",
            "\u001b[1;31mCommand: '/usr/bin/python -m pip install ipykernel -U --user --force-reinstall'"
          ]
        }
      ],
      "source": [
        "import tensorflow as tf\n",
        "import matplotlib.pyplot as plt\n",
        "\n",
        "mnist = tf.keras.datasets.mnist\n",
        "\n",
        "print(tf.__version__)\n"
      ]
    },
    {
      "cell_type": "markdown",
      "metadata": {
        "id": "3m6C8gisAJqb"
      },
      "source": [
        "O exemplo abaixo mostra as 10 primeiras imagens de treino e teste do MNIST:"
      ]
    },
    {
      "cell_type": "code",
      "execution_count": null,
      "metadata": {
        "id": "JSXB_3_iAMMc"
      },
      "outputs": [],
      "source": [
        "# mostrar as 10 primeiras imagens de treino e teste\n",
        "(x_train, y_train),(x_test, y_test) = mnist.load_data()\n",
        "n = 10\n",
        "plt.figure(figsize=(20, 4))\n",
        "for i in range(n):\n",
        "  # treino\n",
        "  ax = plt.subplot(2, n, i + 1)\n",
        "  plt.imshow(x_train[i])\n",
        "  plt.title(f\"treino, y={y_train[i]}\")\n",
        "  plt.gray()\n",
        "  ax.get_xaxis().set_visible(False)\n",
        "  ax.get_yaxis().set_visible(False)\n",
        "\n",
        "  # teste\n",
        "  ax = plt.subplot(2, n, i + 1 + n)\n",
        "  plt.imshow(x_test[i])\n",
        "  plt.title(f\"teste, y={y_test[i]}\")\n",
        "  plt.gray()\n",
        "  ax.get_xaxis().set_visible(False)\n",
        "  ax.get_yaxis().set_visible(False)\n",
        "plt.show()"
      ]
    },
    {
      "cell_type": "markdown",
      "metadata": {
        "id": "y_sxNMHZcx2U"
      },
      "source": [
        "A celula abaixo tem a definição de uma rede neural para ser usada no dataset MNIST. Você pode modifica-la como quiser (e.g. adicionar convoluções e/ou mais camadas ocultas) para melhorar o desempenho. Somente não pode modificar o número de neuronios de saida e a métrica de acurácia.\n",
        "\n"
      ]
    },
    {
      "cell_type": "code",
      "execution_count": null,
      "metadata": {
        "id": "nUBXUukOcKLI"
      },
      "outputs": [],
      "source": [
        "def get_mnist_network():\n",
        "  network = tf.keras.models.Sequential([\n",
        "      tf.keras.layers.Flatten(input_shape=(28,28)),       # 1 camada de entrada (achatando a entrada pra imagem 28x28 virar um vetor)\n",
        "      tf.keras.layers.Dense(10, activation=tf.nn.softmax) # 1 camada de saida com 10 neuronios (1 por classe)\n",
        "  ])\n",
        "\n",
        "  network.compile(optimizer='sgd',                        # otimizador SGD\n",
        "                loss='sparse_categorical_crossentropy',   # entropia cruzada adaptada para multiplas classes\n",
        "                metrics=['accuracy'])                     # métrica final de desempenho (nao modifique!)\n",
        "\n",
        "  return network\n"
      ]
    },
    {
      "cell_type": "markdown",
      "metadata": {
        "id": "NaQ2p_TeN1RE"
      },
      "source": [
        "A celula abaixo tem um exemplo de execucao da rede neural do MNIST naquele dataset. Modifique para executar por 10 épocas e adicione código para medir o tempo gasto.\n"
      ]
    },
    {
      "cell_type": "code",
      "execution_count": null,
      "metadata": {
        "id": "I-Z3JZaiNu1h"
      },
      "outputs": [],
      "source": [
        "network = get_mnist_network()                             # obtem a rede\n",
        "(x_train, y_train),(x_test, y_test) = mnist.load_data()   # carrega o dataset\n",
        "network.fit(x_train, y_train, epochs=5)                   # treina a rede\n",
        "loss, accuracy = network.evaluate(x_test, y_test)         # avalia a rede\n",
        "\n"
      ]
    },
    {
      "cell_type": "markdown",
      "metadata": {
        "id": "eXQklvZQWZCw"
      },
      "source": [
        "## Tarefa\n",
        "\n",
        "Escreva código para executar redes neurais nos seguintes datasets:\n",
        "- MNIST (pode aproveitar o codigo existente)\n",
        "- Fashion MNIST\n",
        "- CIFAR-10\n",
        "- CIFAR-100\n",
        "\n",
        "Cada execução deve ser por 10 épocas.\n",
        "\n",
        "Você deve preencher as funções a seguir para retornarem a rede neural com a melhor configuração que você conseguiu para cada dataset (a do MNIST deve ser feita na `get_mnist_network()` acima).\n",
        "\n",
        "IMPORTANTE: as funções não devem TREINAR nem AVALIAR  as redes neurais, apenas instancia-las e retorna-las.\n",
        "\n",
        "Ao final, preencha o dict `results` com o desempenho encontrado em cada execução."
      ]
    },
    {
      "cell_type": "code",
      "execution_count": null,
      "metadata": {
        "id": "lX2-RCMm5Yro"
      },
      "outputs": [],
      "source": [
        "def get_fashion_mnist_network():\n",
        "  pass  # substitua pelo seu codigo\n",
        "\n",
        "def get_cifar10_network():\n",
        "  pass  # substitua pelo seu codigo\n",
        "\n",
        "def get_cifar100_network():\n",
        "  pass # substitua pelo seu codigo\n",
        "\n"
      ]
    },
    {
      "cell_type": "markdown",
      "metadata": {
        "id": "ozwIAkarPXPo"
      },
      "source": [
        "Preencha o dict abaixo substituindo os None com a acuracia final (acc) e o tempo de treinamento (time) encontrado no seu experimento pra cada dataset"
      ]
    },
    {
      "cell_type": "code",
      "execution_count": null,
      "metadata": {
        "id": "SIPpN21qPWkW"
      },
      "outputs": [],
      "source": [
        "results = {\n",
        "    \"mnist\": {\"time\": None, \"acc\": None},\n",
        "    \"fashion_mnist\": {\"time\": None, \"acc\": None},\n",
        "    \"cifar10\": {\"time\": None, \"acc\": None},\n",
        "    \"cifar100\": {\"time\": None, \"acc\": None},\n",
        "}"
      ]
    },
    {
      "cell_type": "code",
      "execution_count": null,
      "metadata": {
        "id": "q9rGpomwRow7"
      },
      "outputs": [],
      "source": []
    }
  ],
  "metadata": {
    "colab": {
      "provenance": []
    },
    "kernelspec": {
      "display_name": "Python 3",
      "name": "python3"
    },
    "language_info": {
      "name": "python",
      "version": "3.11.3"
    }
  },
  "nbformat": 4,
  "nbformat_minor": 0
}
